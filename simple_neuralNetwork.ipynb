{
  "nbformat": 4,
  "nbformat_minor": 0,
  "metadata": {
    "colab": {
      "provenance": [],
      "authorship_tag": "ABX9TyN8qgqR9819FSinipU9oUMF",
      "include_colab_link": true
    },
    "kernelspec": {
      "name": "python3",
      "display_name": "Python 3"
    },
    "language_info": {
      "name": "python"
    }
  },
  "cells": [
    {
      "cell_type": "markdown",
      "metadata": {
        "id": "view-in-github",
        "colab_type": "text"
      },
      "source": [
        "<a href=\"https://colab.research.google.com/github/jjcruzado/Pytorch-Tutorial/blob/main/simple_neuralNetwork.ipynb\" target=\"_parent\"><img src=\"https://colab.research.google.com/assets/colab-badge.svg\" alt=\"Open In Colab\"/></a>"
      ]
    },
    {
      "cell_type": "code",
      "source": [
        "# iris data set\n",
        "import torch\n",
        "import torch.nn as nn\n",
        "import torch.nn.functional as F"
      ],
      "metadata": {
        "id": "J5FE_PD1XBhx"
      },
      "execution_count": 34,
      "outputs": []
    },
    {
      "cell_type": "code",
      "source": [
        "# create a model class that inhertis the nn.module\n",
        "# fc1 = fully connected 1 = hidden layer 1 (bcse its fully connected)\n",
        "# relu = rectified linear unit = do something, if the output is less then zero, call it zero, otherwise use the output (think active vs. inactive)\n",
        "class Model(nn.Module):\n",
        "  # input layer (4 features of the flower) -->\n",
        "  # hidden layer1 (some number of neurons) -->\n",
        "  # hidden layer2 (some number of neurons) --> (\n",
        "  # output (3 classes of iris flowers)\n",
        "  def __init__(self, in_features=4, h1=8, h2=9, out_features=3):\n",
        "    super().__init__() # instantiate our nn.Module\n",
        "    self.fc1 = nn.Linear(in_features, h1)\n",
        "    self.fc2 = nn.Linear(h1, h2)\n",
        "    self.out = nn.Linear(h2, out_features)\n",
        "\n",
        "  def forward(self, x):\n",
        "    x = F.relu(self.fc1(x))\n",
        "    x = F.relu(self.fc2(x))\n",
        "    x = F.relu(self.out(x))\n",
        "\n",
        "    return x\n"
      ],
      "metadata": {
        "id": "ssQwXLn3doyO"
      },
      "execution_count": 41,
      "outputs": []
    },
    {
      "cell_type": "code",
      "source": [
        "# pick a random seed for randomization\n",
        "# neural network include randomization. in order to get us to match the video, put a seed\n",
        "\n",
        "torch.manual_seed(41)\n",
        "\n",
        "# create an instance of our model\n",
        "\n",
        "model = Model()"
      ],
      "metadata": {
        "id": "nEneTs4ofrOU"
      },
      "execution_count": 42,
      "outputs": []
    },
    {
      "cell_type": "code",
      "source": [],
      "metadata": {
        "id": "saYFiom5f_OP"
      },
      "execution_count": null,
      "outputs": []
    }
  ]
}